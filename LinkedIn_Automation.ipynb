{
 "cells": [
  {
   "cell_type": "markdown",
   "id": "bb2573e7",
   "metadata": {},
   "source": [
    "<div class=\"alert alert-block alert-success\">\n",
    "\n",
    "# <center> LinkedIn Automate </center>\n",
    "## <center>  Connection Requests </center>\n",
    "    \n",
    "### <center>  for  </center>\n",
    "## <center>  2nd+ and 3rd+ </center>\n",
    "<br>\n",
    "    \n",
    "\n",
    "### <center>  Connections ranging from 2,3 and 4</center>\n",
    "    \n",
    "\n",
    "</div>"
   ]
  },
  {
   "cell_type": "code",
   "execution_count": null,
   "id": "de3a6977",
   "metadata": {},
   "outputs": [],
   "source": [
    "!pip install selenium"
   ]
  },
  {
   "cell_type": "code",
   "execution_count": null,
   "id": "e66e2fb2",
   "metadata": {},
   "outputs": [],
   "source": [
    "import pandas as pd\n",
    "from selenium import webdriver\n",
    "from selenium.webdriver.common.by import By\n",
    "from selenium.webdriver.edge.service import Service\n",
    "from selenium.webdriver.edge.options import Options\n",
    "from selenium.webdriver.support.ui import WebDriverWait\n",
    "from selenium.webdriver.support import expected_conditions as EC\n",
    "import time"
   ]
  },
  {
   "cell_type": "code",
   "execution_count": null,
   "id": "27dee263",
   "metadata": {},
   "outputs": [],
   "source": [
    "# LinkedIn login credentials\n",
    "username = 'xxxxxx@gmail.com'\n",
    "password = 'Xxxxxx123@'"
   ]
  },
  {
   "cell_type": "code",
   "execution_count": null,
   "id": "b692b86f",
   "metadata": {},
   "outputs": [],
   "source": [
    "# Read LinkedIn profile URLs from Excel file\n",
    "excel_file_path = 'path_to_your_excel_file.xlsx'  # Replace with your actual file path\n",
    "df = pd.read_excel(excel_file_path)\n",
    "profiles = df['person_linkedin_url'].tolist()"
   ]
  },
  {
   "cell_type": "code",
   "execution_count": null,
   "id": "39fefe86",
   "metadata": {},
   "outputs": [],
   "source": [
    "# Personal note to include in the invitation\n",
    "personal_note = \"Hi, I came across your profile and would love to connect with you.\""
   ]
  },
  {
   "cell_type": "code",
   "execution_count": null,
   "id": "2dac4d09",
   "metadata": {},
   "outputs": [],
   "source": [
    "# Set up the WebDriver with headless mode\n",
    "driver_path = r'C:\\Users\\chand\\OneDrive\\Documents\\LinkedIn_Automation\\edgedriver_win32\\msedgedriver.exe'\n",
    "service = Service(driver_path)\n",
    "options = Options()\n",
    "options.headless = True  # Enable headless mode\n",
    "\n",
    "driver = webdriver.Edge(service=service, options=options)\n",
    "wait = WebDriverWait(driver, 10)"
   ]
  },
  {
   "cell_type": "code",
   "execution_count": null,
   "id": "091e4012",
   "metadata": {},
   "outputs": [],
   "source": [
    "# Function to login to LinkedIn\n",
    "def login(driver, username, password):\n",
    "    driver.get('https://www.linkedin.com/login')\n",
    "    time.sleep(2)\n",
    "    driver.find_element(By.ID, 'username').send_keys(username)\n",
    "    driver.find_element(By.ID, 'password').send_keys(password)\n",
    "    driver.find_element(By.XPATH, '//button[@type=\"submit\"]').click()\n",
    "    time.sleep(5)  # Adjust this sleep time as needed"
   ]
  },
  {
   "cell_type": "code",
   "execution_count": null,
   "id": "d918faa2",
   "metadata": {},
   "outputs": [],
   "source": [
    "# Function to send an invitation\n",
    "def send_invitation(driver, profile_url, note):\n",
    "    driver.get(profile_url)\n",
    "    time.sleep(5)  # Adjust this sleep time as needed\n",
    "    try:\n",
    "        # Ensure the page is fully loaded\n",
    "        driver.execute_script(\"return document.readyState\") == \"complete\"\n",
    "        time.sleep(2)\n",
    "\n",
    "        # Try different locators for the Connect button\n",
    "        connect_button = None\n",
    "        connect_locators = [\n",
    "            '//button[contains(@aria-label, \"Connect\")]',\n",
    "            '//button[contains(text(), \"Connect\")]',\n",
    "            '//button[contains(@aria-label, \"Connect with\")]',\n",
    "            '//button[contains(@aria-label, \"Invite\")]',\n",
    "            '//button[contains(text(), \"Invite\")]',\n",
    "        ]\n",
    "\n",
    "        for locator in connect_locators:\n",
    "            try:\n",
    "                connect_button = wait.until(EC.element_to_be_clickable((By.XPATH, locator)))\n",
    "                if connect_button:\n",
    "                    print(f\"Connect button found with locator: {locator}, clicking...\")\n",
    "                    driver.execute_script(\"arguments[0].click();\", connect_button)\n",
    "                    time.sleep(2)\n",
    "                    break\n",
    "            except:\n",
    "                print(f\"Connect button with locator: {locator} not found, trying next...\")\n",
    "\n",
    "        if not connect_button:\n",
    "            print(f\"Error: Connect button not found for {profile_url}\")\n",
    "            return\n",
    "\n",
    "        # Add a note\n",
    "        try:\n",
    "            add_note_button = wait.until(EC.element_to_be_clickable((By.XPATH, '//button[@aria-label=\"Add a note\"]')))\n",
    "            print(\"Add note button found, clicking...\")\n",
    "            driver.execute_script(\"arguments[0].click();\", add_note_button)\n",
    "            time.sleep(2)\n",
    "\n",
    "            text_area = driver.find_element(By.XPATH, '//textarea[@name=\"message\"]')\n",
    "            print(\"Message text area found, entering note...\")\n",
    "            text_area.send_keys(note)\n",
    "\n",
    "            send_button = driver.find_element(By.XPATH, '//button[@aria-label=\"Send now\"]')\n",
    "            print(\"Send button found, clicking...\")\n",
    "            driver.execute_script(\"arguments[0].click();\", send_button)\n",
    "            time.sleep(2)\n",
    "        except Exception as e:\n",
    "            print(f\"Add note button not found or error occurred: {e}\")\n",
    "            print(\"Attempting to send invitation without note...\")\n",
    "            try:\n",
    "                send_button = driver.find_element(By.XPATH, '//button[@aria-label=\"Send now\"]')\n",
    "                driver.execute_script(\"arguments[0].click();\", send_button)\n",
    "                time.sleep(2)\n",
    "            except Exception as inner_e:\n",
    "                print(f\"Error sending invitation without note: {inner_e}\")\n",
    "    except Exception as e:\n",
    "        print(f\"Error sending invitation to {profile_url}: {e}\")"
   ]
  },
  {
   "cell_type": "code",
   "execution_count": null,
   "id": "fe57b985",
   "metadata": {},
   "outputs": [],
   "source": [
    "# Main script\n",
    "login(driver, username, password)\n",
    "for profile in profiles:\n",
    "    send_invitation(driver, profile, personal_note)\n",
    "\n",
    "# Close the browser\n",
    "driver.quit()"
   ]
  }
 ],
 "metadata": {
  "kernelspec": {
   "display_name": "Python 3 (ipykernel)",
   "language": "python",
   "name": "python3"
  },
  "language_info": {
   "codemirror_mode": {
    "name": "ipython",
    "version": 3
   },
   "file_extension": ".py",
   "mimetype": "text/x-python",
   "name": "python",
   "nbconvert_exporter": "python",
   "pygments_lexer": "ipython3",
   "version": "3.9.7"
  }
 },
 "nbformat": 4,
 "nbformat_minor": 5
}
